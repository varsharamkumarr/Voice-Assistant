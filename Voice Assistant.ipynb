{
 "cells": [
  {
   "cell_type": "code",
   "execution_count": 1,
   "id": "fb061ac9-1fb7-4364-bbd2-7f734a02d23f",
   "metadata": {},
   "outputs": [],
   "source": [
    "import speech_recognition as sr\n",
    "import pyttsx3\n",
    "import datetime\n",
    "import wikipedia\n",
    "import webbrowser"
   ]
  },
  {
   "cell_type": "code",
   "execution_count": 2,
   "id": "0ed90627-a2ed-4d69-af93-de0792fd6e17",
   "metadata": {},
   "outputs": [],
   "source": [
    "# Initialize the speech recognition engine\n",
    "r = sr.Recognizer()"
   ]
  },
  {
   "cell_type": "code",
   "execution_count": 3,
   "id": "ce827fda-c001-4a07-a4b6-a46550d0dd0a",
   "metadata": {},
   "outputs": [],
   "source": [
    "# Set the default voice for text-to-speech synthesis\n",
    "engine = pyttsx3.init()\n",
    "voices = engine.getProperty('voices')\n",
    "engine.setProperty('voice', voices[0].id)  # Change the index to use a different voice if needed"
   ]
  },
  {
   "cell_type": "code",
   "execution_count": 4,
   "id": "632ac23a-e5c7-49b1-84a2-bfa35dadc4c2",
   "metadata": {},
   "outputs": [],
   "source": [
    "def speak(text):\n",
    "    engine.say(text)\n",
    "    engine.runAndWait()\n",
    "\n",
    "def greet():\n",
    "    hour = datetime.datetime.now().hour\n",
    "\n",
    "    if 0 <= hour < 12:\n",
    "        speak(\"Good morning!\")\n",
    "\n",
    "    elif 12 <= hour < 18:\n",
    "        speak(\"Good afternoon!\")\n",
    "\n",
    "    else:\n",
    "        speak(\"Good evening!\")\n",
    "\n",
    "    speak(\"How can I assist you?\")\n",
    "\n",
    "def listen():\n",
    "    with sr.Microphone() as source:\n",
    "        print(\"Listening...\")\n",
    "        r.pause_threshold = 1\n",
    "        audio = r.listen(source)\n",
    "\n",
    "    try:\n",
    "        print(\"Recognizing...\")\n",
    "        query = r.recognize_google(audio, language='en-US')\n",
    "        print(f\"You said: {query}\\n\")\n",
    "\n",
    "    except Exception as e:\n",
    "        print(\"Sorry, I didn't catch that. Can you please repeat?\")\n",
    "        return \"\"\n",
    "    return query\n",
    "\n",
    "def search_web(query):\n",
    "    speak(f\"Searching for {query} on the web...\")\n",
    "    url = \"https://www.google.com/search?q=\" + query\n",
    "    webbrowser.open(url)\n",
    "\n",
    "\n",
    "def execute_command(command):\n",
    "    if \"hello\" in command:\n",
    "        speak(\"Hello there!\")\n",
    "\n",
    "    elif 'wikipedia' in command:\n",
    "        speak('Searching Wikipedia...')\n",
    "        command = command.replace(\"wikipedia\", \"\")\n",
    "        results = wikipedia.summary(command, sentences=2)\n",
    "        speak('According to Wikipedia')\n",
    "        print(results)\n",
    "        speak(results)\n",
    "        \n",
    "    elif \"search\" in command:\n",
    "        search_query = command.split(\"search\")[-1].strip()\n",
    "        search_web(search_query)\n",
    "\n",
    "    elif 'open youtube' in command:\n",
    "        webbrowser.open(\"youtube.com\")\n",
    "\n",
    "    elif 'open google' in command:\n",
    "        webbrowser.open(\"google.com\")\n",
    "\n",
    "    elif 'play music' in command:\n",
    "        # Add code to play music from a local directory or a streaming service (e.g., Spotify)\n",
    "        webbrowser.open(\"spotify.com\")\n",
    "\n",
    "    elif 'time' in command:\n",
    "        now = datetime.datetime.now().strftime(\"%H:%M:%S\")\n",
    "        speak(f\"The time is {now}\")\n",
    "\n",
    "    elif 'date' in command:\n",
    "        now = datetime.datetime.now().strftime(\"%D-%m-%Y\")\n",
    "        speak(f\"The date is {now}\")\n",
    "\n",
    "    elif 'exit' in command:\n",
    "        speak(\"Goodbye!\")\n",
    "        exit()\n",
    "\n",
    "    else:\n",
    "        speak(\"I'm sorry, I couldn't understand your command.\")"
   ]
  },
  {
   "cell_type": "code",
   "execution_count": null,
   "id": "1af6c60f-cc87-4b09-af1d-c3ef6ef0aec4",
   "metadata": {},
   "outputs": [
    {
     "name": "stderr",
     "output_type": "stream",
     "text": [
      "Exception ignored in: <function BSTR.__del__ at 0x0000029891C39700>\n",
      "Traceback (most recent call last):\n",
      "  File \"C:\\Users\\Varsha\\anaconda3\\lib\\site-packages\\comtypes\\__init__.py\", line 683, in __del__\n",
      "    def __del__(self, _free=windll.oleaut32.SysFreeString):\n",
      "KeyboardInterrupt: \n"
     ]
    },
    {
     "name": "stdout",
     "output_type": "stream",
     "text": [
      "Listening...\n",
      "Recognizing...\n",
      "Sorry, I didn't catch that. Can you please repeat?\n",
      "Listening...\n",
      "Recognizing...\n",
      "Sorry, I didn't catch that. Can you please repeat?\n",
      "Listening...\n",
      "Recognizing...\n",
      "Sorry, I didn't catch that. Can you please repeat?\n",
      "Listening...\n",
      "Recognizing...\n",
      "Sorry, I didn't catch that. Can you please repeat?\n",
      "Listening...\n",
      "Recognizing...\n",
      "Sorry, I didn't catch that. Can you please repeat?\n",
      "Listening...\n",
      "Recognizing...\n",
      "Sorry, I didn't catch that. Can you please repeat?\n",
      "Listening...\n",
      "Recognizing...\n",
      "Sorry, I didn't catch that. Can you please repeat?\n",
      "Listening...\n",
      "Recognizing...\n",
      "Sorry, I didn't catch that. Can you please repeat?\n",
      "Listening...\n",
      "Recognizing...\n",
      "Sorry, I didn't catch that. Can you please repeat?\n",
      "Listening...\n"
     ]
    }
   ],
   "source": [
    "if __name__ == \"__main__\":\n",
    "    greet()\n",
    "    while True:\n",
    "        command = listen().lower()\n",
    "        if command:\n",
    "            execute_command(command)"
   ]
  }
 ],
 "metadata": {
  "kernelspec": {
   "display_name": "Python 3 (ipykernel)",
   "language": "python",
   "name": "python3"
  },
  "language_info": {
   "codemirror_mode": {
    "name": "ipython",
    "version": 3
   },
   "file_extension": ".py",
   "mimetype": "text/x-python",
   "name": "python",
   "nbconvert_exporter": "python",
   "pygments_lexer": "ipython3",
   "version": "3.8.18"
  }
 },
 "nbformat": 4,
 "nbformat_minor": 5
}
